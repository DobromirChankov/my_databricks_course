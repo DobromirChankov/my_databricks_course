{
 "cells": [
  {
   "cell_type": "markdown",
   "metadata": {
    "application/vnd.databricks.v1+cell": {
     "cellMetadata": {},
     "inputWidgets": {},
     "nuid": "c58b8f61-ec55-46c4-9a3e-2cabd7670bcf",
     "showTitle": false,
     "title": ""
    }
   },
   "source": [
    "-sandbox\n",
    "\n",
    "<div style=\"text-align: center; line-height: 0; padding-top: 9px;\">\n",
    "  <img src=\"https://databricks.com/wp-content/uploads/2018/03/db-academy-rgb-1200px.png\" alt=\"Databricks Learning\" style=\"width: 600px\">\n",
    "</div>"
   ]
  },
  {
   "cell_type": "markdown",
   "metadata": {
    "application/vnd.databricks.v1+cell": {
     "cellMetadata": {},
     "inputWidgets": {},
     "nuid": "23b670f4-191c-41df-95b8-e50047dff0fd",
     "showTitle": false,
     "title": ""
    }
   },
   "source": [
    "# DataFrame & Column\n",
    "##### Objectives\n",
    "1. Construct columns\n",
    "1. Subset columns\n",
    "1. Add or replace columns\n",
    "1. Subset rows\n",
    "1. Sort rows\n",
    "\n",
    "##### Methods\n",
    "- <a href=\"https://spark.apache.org/docs/latest/api/python/reference/pyspark.sql/dataframe.html\" target=\"_blank\">DataFrame</a>: **`select`**, **`selectExpr`**, **`drop`**, **`withColumn`**, **`withColumnRenamed`**, **`filter`**, **`distinct`**, **`limit`**, **`sort`**\n",
    "- <a href=\"https://spark.apache.org/docs/latest/api/python/reference/pyspark.sql/column.html\" target=\"_blank\">Column</a>: **`alias`**, **`isin`**, **`cast`**, **`isNotNull`**, **`desc`**, operators"
   ]
  },
  {
   "cell_type": "code",
   "execution_count": 0,
   "metadata": {
    "application/vnd.databricks.v1+cell": {
     "cellMetadata": {},
     "inputWidgets": {},
     "nuid": "8f54b896-730e-41ad-b4e2-578e33089a75",
     "showTitle": false,
     "title": ""
    }
   },
   "outputs": [],
   "source": [
    "%run ../Includes/Classroom-Setup-00.3"
   ]
  },
  {
   "cell_type": "markdown",
   "metadata": {
    "application/vnd.databricks.v1+cell": {
     "cellMetadata": {},
     "inputWidgets": {},
     "nuid": "1ba52e37-b9ad-4333-a945-ad014c5c4cf3",
     "showTitle": false,
     "title": ""
    }
   },
   "source": [
    "Let's use the BedBricks events dataset."
   ]
  },
  {
   "cell_type": "code",
   "execution_count": 0,
   "metadata": {
    "application/vnd.databricks.v1+cell": {
     "cellMetadata": {},
     "inputWidgets": {},
     "nuid": "4c939e45-af21-4f76-b6d3-40ccf1dc51b6",
     "showTitle": false,
     "title": ""
    }
   },
   "outputs": [],
   "source": [
    "events_df = spark.table(\"events\")\n",
    "display(events_df)"
   ]
  },
  {
   "cell_type": "markdown",
   "metadata": {
    "application/vnd.databricks.v1+cell": {
     "cellMetadata": {},
     "inputWidgets": {},
     "nuid": "288257c9-1b2a-4f60-8957-2834c03ab6d5",
     "showTitle": false,
     "title": ""
    }
   },
   "source": [
    "## Column Expressions\n",
    "\n",
    "A <a href=\"https://spark.apache.org/docs/latest/api/python/reference/pyspark.sql/column.html\" target=\"_blank\">Column</a> is a logical construction that will be computed based on the data in a DataFrame using an expression\n",
    "\n",
    "Construct a new Column based on existing columns in a DataFrame"
   ]
  },
  {
   "cell_type": "code",
   "execution_count": 0,
   "metadata": {
    "application/vnd.databricks.v1+cell": {
     "cellMetadata": {},
     "inputWidgets": {},
     "nuid": "7df25af0-2526-4866-8f2c-8556619af412",
     "showTitle": false,
     "title": ""
    }
   },
   "outputs": [],
   "source": [
    "from pyspark.sql.functions import col\n",
    "\n",
    "print(events_df.device)\n",
    "print(events_df[\"device\"])\n",
    "print(col(\"device\"))"
   ]
  },
  {
   "cell_type": "markdown",
   "metadata": {
    "application/vnd.databricks.v1+cell": {
     "cellMetadata": {},
     "inputWidgets": {},
     "nuid": "52902b00-3a0b-46c1-9ba8-9403366f0f41",
     "showTitle": false,
     "title": ""
    }
   },
   "source": [
    "Scala supports an additional syntax for creating a new Column based on existing columns in a DataFrame"
   ]
  },
  {
   "cell_type": "code",
   "execution_count": 0,
   "metadata": {
    "application/vnd.databricks.v1+cell": {
     "cellMetadata": {},
     "inputWidgets": {},
     "nuid": "c483bfe2-dfb5-42ca-b24d-60e968cf9472",
     "showTitle": false,
     "title": ""
    }
   },
   "outputs": [],
   "source": [
    "%scala\n",
    "$\"device\""
   ]
  },
  {
   "cell_type": "markdown",
   "metadata": {
    "application/vnd.databricks.v1+cell": {
     "cellMetadata": {},
     "inputWidgets": {},
     "nuid": "e05678fe-4870-404e-ac41-589b9e834f95",
     "showTitle": false,
     "title": ""
    }
   },
   "source": [
    "### Column Operators and Methods\n",
    "| Method | Description |\n",
    "| --- | --- |\n",
    "| \\*, + , <, >= | Math and comparison operators |\n",
    "| ==, != | Equality and inequality tests (Scala operators are **`===`** and **`=!=`**) |\n",
    "| alias | Gives the column an alias |\n",
    "| cast, astype | Casts the column to a different data type |\n",
    "| isNull, isNotNull, isNan | Is null, is not null, is NaN |\n",
    "| asc, desc | Returns a sort expression based on ascending/descending order of the column |"
   ]
  },
  {
   "cell_type": "markdown",
   "metadata": {
    "application/vnd.databricks.v1+cell": {
     "cellMetadata": {},
     "inputWidgets": {},
     "nuid": "cf032106-78da-4b28-b8ea-5d6a3110ac08",
     "showTitle": false,
     "title": ""
    }
   },
   "source": [
    "Create complex expressions with existing columns, operators, and methods."
   ]
  },
  {
   "cell_type": "code",
   "execution_count": 0,
   "metadata": {
    "application/vnd.databricks.v1+cell": {
     "cellMetadata": {},
     "inputWidgets": {},
     "nuid": "4542685a-b7bc-4cfb-b20a-0bab86c3c539",
     "showTitle": false,
     "title": ""
    }
   },
   "outputs": [],
   "source": [
    "col(\"ecommerce.purchase_revenue_in_usd\") + col(\"ecommerce.total_item_quantity\")\n",
    "col(\"event_timestamp\").desc()\n",
    "(col(\"ecommerce.purchase_revenue_in_usd\") * 100).cast(\"int\")"
   ]
  },
  {
   "cell_type": "markdown",
   "metadata": {
    "application/vnd.databricks.v1+cell": {
     "cellMetadata": {},
     "inputWidgets": {},
     "nuid": "d4fb682b-447f-4bcc-871a-45f2f8b21695",
     "showTitle": false,
     "title": ""
    }
   },
   "source": [
    "Here's an example of using these column expressions in the context of a DataFrame"
   ]
  },
  {
   "cell_type": "code",
   "execution_count": 0,
   "metadata": {
    "application/vnd.databricks.v1+cell": {
     "cellMetadata": {},
     "inputWidgets": {},
     "nuid": "5762d072-499a-4414-802c-e46be71e5004",
     "showTitle": false,
     "title": ""
    }
   },
   "outputs": [],
   "source": [
    "rev_df = (events_df\n",
    "         .filter(col(\"ecommerce.purchase_revenue_in_usd\").isNotNull())\n",
    "         .withColumn(\"purchase_revenue\", (col(\"ecommerce.purchase_revenue_in_usd\") * 100).cast(\"int\"))\n",
    "         .withColumn(\"avg_purchase_revenue\", col(\"ecommerce.purchase_revenue_in_usd\") / col(\"ecommerce.total_item_quantity\"))\n",
    "         .sort(col(\"avg_purchase_revenue\").desc())\n",
    "        )\n",
    "\n",
    "display(rev_df)"
   ]
  },
  {
   "cell_type": "markdown",
   "metadata": {
    "application/vnd.databricks.v1+cell": {
     "cellMetadata": {},
     "inputWidgets": {},
     "nuid": "c38080f3-3ea6-4620-8e66-f7d3922baca7",
     "showTitle": false,
     "title": ""
    }
   },
   "source": [
    "## DataFrame Transformation Methods\n",
    "| Method | Description |\n",
    "| --- | --- |\n",
    "| **`select`** | Returns a new DataFrame by computing given expression for each element |\n",
    "| **`drop`** | Returns a new DataFrame with a column dropped |\n",
    "| **`withColumnRenamed`** | Returns a new DataFrame with a column renamed |\n",
    "| **`withColumn`** | Returns a new DataFrame by adding a column or replacing the existing column that has the same name |\n",
    "| **`filter`**, **`where`** | Filters rows using the given condition |\n",
    "| **`sort`**, **`orderBy`** | Returns a new DataFrame sorted by the given expressions |\n",
    "| **`dropDuplicates`**, **`distinct`** | Returns a new DataFrame with duplicate rows removed |\n",
    "| **`limit`** | Returns a new DataFrame by taking the first n rows |\n",
    "| **`groupBy`** | Groups the DataFrame using the specified columns, so we can run aggregation on them |"
   ]
  },
  {
   "cell_type": "markdown",
   "metadata": {
    "application/vnd.databricks.v1+cell": {
     "cellMetadata": {},
     "inputWidgets": {},
     "nuid": "bdc8fcde-3f16-4918-ba4d-ecfd97a39bef",
     "showTitle": false,
     "title": ""
    }
   },
   "source": [
    "### Subset columns\n",
    "Use DataFrame transformations to subset columns"
   ]
  },
  {
   "cell_type": "markdown",
   "metadata": {
    "application/vnd.databricks.v1+cell": {
     "cellMetadata": {},
     "inputWidgets": {},
     "nuid": "96e69c0c-934a-4643-a29d-a49f39cd484c",
     "showTitle": false,
     "title": ""
    }
   },
   "source": [
    "#### **`select()`**\n",
    "Selects a list of columns or column based expressions"
   ]
  },
  {
   "cell_type": "code",
   "execution_count": 0,
   "metadata": {
    "application/vnd.databricks.v1+cell": {
     "cellMetadata": {},
     "inputWidgets": {},
     "nuid": "e06f2267-916a-43cc-b4fd-1ddc5873cf37",
     "showTitle": false,
     "title": ""
    }
   },
   "outputs": [],
   "source": [
    "devices_df = events_df.select(\"user_id\", \"device\")\n",
    "display(devices_df)"
   ]
  },
  {
   "cell_type": "code",
   "execution_count": 0,
   "metadata": {
    "application/vnd.databricks.v1+cell": {
     "cellMetadata": {},
     "inputWidgets": {},
     "nuid": "7f0566fe-3abf-44bd-b176-147f2c847113",
     "showTitle": false,
     "title": ""
    }
   },
   "outputs": [],
   "source": [
    "from pyspark.sql.functions import col\n",
    "\n",
    "locations_df = events_df.select(\n",
    "    \"user_id\", \n",
    "    col(\"geo.city\").alias(\"city\"), \n",
    "    col(\"geo.state\").alias(\"state\")\n",
    ")\n",
    "display(locations_df)"
   ]
  },
  {
   "cell_type": "markdown",
   "metadata": {
    "application/vnd.databricks.v1+cell": {
     "cellMetadata": {},
     "inputWidgets": {},
     "nuid": "b9c99ff8-5da8-474b-8961-d97286857d50",
     "showTitle": false,
     "title": ""
    }
   },
   "source": [
    "#### **`selectExpr()`**\n",
    "Selects a list of SQL expressions"
   ]
  },
  {
   "cell_type": "code",
   "execution_count": 0,
   "metadata": {
    "application/vnd.databricks.v1+cell": {
     "cellMetadata": {},
     "inputWidgets": {},
     "nuid": "e0c4083f-6c60-45f4-a358-5e6e1c7c0c06",
     "showTitle": false,
     "title": ""
    }
   },
   "outputs": [],
   "source": [
    "apple_df = events_df.selectExpr(\"user_id\", \"device in ('macOS', 'iOS') as apple_user\")\n",
    "display(apple_df)"
   ]
  },
  {
   "cell_type": "markdown",
   "metadata": {
    "application/vnd.databricks.v1+cell": {
     "cellMetadata": {},
     "inputWidgets": {},
     "nuid": "7780a94c-ce13-43e6-8c1c-2ff5fd56affa",
     "showTitle": false,
     "title": ""
    }
   },
   "source": [
    "#### **`drop()`**\n",
    "Returns a new DataFrame after dropping the given column, specified as a string or Column object\n",
    "\n",
    "Use strings to specify multiple columns"
   ]
  },
  {
   "cell_type": "code",
   "execution_count": 0,
   "metadata": {
    "application/vnd.databricks.v1+cell": {
     "cellMetadata": {},
     "inputWidgets": {},
     "nuid": "d5f939d6-04c9-45c9-9d4e-1c735a0e27fc",
     "showTitle": false,
     "title": ""
    }
   },
   "outputs": [],
   "source": [
    "anonymous_df = events_df.drop(\"user_id\", \"geo\", \"device\")\n",
    "display(anonymous_df)"
   ]
  },
  {
   "cell_type": "code",
   "execution_count": 0,
   "metadata": {
    "application/vnd.databricks.v1+cell": {
     "cellMetadata": {},
     "inputWidgets": {},
     "nuid": "a865d1cf-5bf8-473a-ac55-2362db33f22e",
     "showTitle": false,
     "title": ""
    }
   },
   "outputs": [],
   "source": [
    "no_sales_df = events_df.drop(col(\"ecommerce\"))\n",
    "display(no_sales_df)\n"
   ]
  },
  {
   "cell_type": "markdown",
   "metadata": {
    "application/vnd.databricks.v1+cell": {
     "cellMetadata": {},
     "inputWidgets": {},
     "nuid": "0c9fb961-64b3-459c-9795-5c9dc8235227",
     "showTitle": false,
     "title": ""
    }
   },
   "source": [
    "### Add or replace columns\n",
    "Use DataFrame transformations to add or replace columns"
   ]
  },
  {
   "cell_type": "markdown",
   "metadata": {
    "application/vnd.databricks.v1+cell": {
     "cellMetadata": {},
     "inputWidgets": {},
     "nuid": "a8aa0f83-aa75-4afa-b144-e0627228ebbf",
     "showTitle": false,
     "title": ""
    }
   },
   "source": [
    "#### **`withColumn()`**\n",
    "Returns a new DataFrame by adding a column or replacing an existing column that has the same name."
   ]
  },
  {
   "cell_type": "code",
   "execution_count": 0,
   "metadata": {
    "application/vnd.databricks.v1+cell": {
     "cellMetadata": {},
     "inputWidgets": {},
     "nuid": "a5f6ca0f-78e2-4a16-ab40-e4b53ed91606",
     "showTitle": false,
     "title": ""
    }
   },
   "outputs": [],
   "source": [
    "mobile_df = events_df.withColumn(\"mobile\", col(\"device\").isin(\"iOS\", \"Android\"))\n",
    "display(mobile_df)"
   ]
  },
  {
   "cell_type": "code",
   "execution_count": 0,
   "metadata": {
    "application/vnd.databricks.v1+cell": {
     "cellMetadata": {},
     "inputWidgets": {},
     "nuid": "cac8094d-9039-444c-809d-03cb15feb57e",
     "showTitle": false,
     "title": ""
    }
   },
   "outputs": [],
   "source": [
    "purchase_quantity_df = events_df.withColumn(\"purchase_quantity\", col(\"ecommerce.total_item_quantity\").cast(\"int\"))\n",
    "purchase_quantity_df.printSchema()"
   ]
  },
  {
   "cell_type": "markdown",
   "metadata": {
    "application/vnd.databricks.v1+cell": {
     "cellMetadata": {},
     "inputWidgets": {},
     "nuid": "03a633d4-5c26-44e5-bcf7-24f3c205fcad",
     "showTitle": false,
     "title": ""
    }
   },
   "source": [
    "#### **`withColumnRenamed()`**\n",
    "Returns a new DataFrame with a column renamed."
   ]
  },
  {
   "cell_type": "code",
   "execution_count": 0,
   "metadata": {
    "application/vnd.databricks.v1+cell": {
     "cellMetadata": {},
     "inputWidgets": {},
     "nuid": "106e547f-5f66-4f3f-b428-f90d573af61d",
     "showTitle": false,
     "title": ""
    }
   },
   "outputs": [],
   "source": [
    "location_df = events_df.withColumnRenamed(\"geo\", \"location\")\n",
    "display(location_df)"
   ]
  },
  {
   "cell_type": "markdown",
   "metadata": {
    "application/vnd.databricks.v1+cell": {
     "cellMetadata": {},
     "inputWidgets": {},
     "nuid": "95971aca-b522-4fa9-ae38-f91fb0f6b927",
     "showTitle": false,
     "title": ""
    }
   },
   "source": [
    "### Subset Rows\n",
    "Use DataFrame transformations to subset rows"
   ]
  },
  {
   "cell_type": "markdown",
   "metadata": {
    "application/vnd.databricks.v1+cell": {
     "cellMetadata": {},
     "inputWidgets": {},
     "nuid": "3e360ed2-221e-4acb-a357-b3088d584a45",
     "showTitle": false,
     "title": ""
    }
   },
   "source": [
    "#### **`filter()`**\n",
    "Filters rows using the given SQL expression or column based condition.\n",
    "\n",
    "##### Alias: **`where`**"
   ]
  },
  {
   "cell_type": "code",
   "execution_count": 0,
   "metadata": {
    "application/vnd.databricks.v1+cell": {
     "cellMetadata": {},
     "inputWidgets": {},
     "nuid": "ef311f38-b640-4d6e-a306-18783a149323",
     "showTitle": false,
     "title": ""
    }
   },
   "outputs": [],
   "source": [
    "purchases_df = events_df.filter(\"ecommerce.total_item_quantity > 0\")\n",
    "display(purchases_df)"
   ]
  },
  {
   "cell_type": "code",
   "execution_count": 0,
   "metadata": {
    "application/vnd.databricks.v1+cell": {
     "cellMetadata": {},
     "inputWidgets": {},
     "nuid": "cbcd120c-8d69-4507-a033-911a27d0ddd3",
     "showTitle": false,
     "title": ""
    }
   },
   "outputs": [],
   "source": [
    "revenue_df = events_df.filter(col(\"ecommerce.purchase_revenue_in_usd\").isNotNull())\n",
    "display(revenue_df)"
   ]
  },
  {
   "cell_type": "code",
   "execution_count": 0,
   "metadata": {
    "application/vnd.databricks.v1+cell": {
     "cellMetadata": {},
     "inputWidgets": {},
     "nuid": "dbe2074e-7e11-4b24-91d8-99badee7b99e",
     "showTitle": false,
     "title": ""
    }
   },
   "outputs": [],
   "source": [
    "android_df = events_df.filter((col(\"traffic_source\") != \"direct\") & (col(\"device\") == \"Android\"))\n",
    "display(android_df)"
   ]
  },
  {
   "cell_type": "markdown",
   "metadata": {
    "application/vnd.databricks.v1+cell": {
     "cellMetadata": {},
     "inputWidgets": {},
     "nuid": "5c811801-12a9-484d-9646-4431cc7a7423",
     "showTitle": false,
     "title": ""
    }
   },
   "source": [
    "#### **`dropDuplicates()`**\n",
    "Returns a new DataFrame with duplicate rows removed, optionally considering only a subset of columns.\n",
    "\n",
    "##### Alias: **`distinct`**"
   ]
  },
  {
   "cell_type": "code",
   "execution_count": 0,
   "metadata": {
    "application/vnd.databricks.v1+cell": {
     "cellMetadata": {},
     "inputWidgets": {},
     "nuid": "097b603e-e0c2-417c-a491-fcf585ee7576",
     "showTitle": false,
     "title": ""
    }
   },
   "outputs": [],
   "source": [
    "display(events_df.distinct())"
   ]
  },
  {
   "cell_type": "code",
   "execution_count": 0,
   "metadata": {
    "application/vnd.databricks.v1+cell": {
     "cellMetadata": {},
     "inputWidgets": {},
     "nuid": "106c9977-2537-4a6b-b809-c99d478878df",
     "showTitle": false,
     "title": ""
    }
   },
   "outputs": [],
   "source": [
    "distinct_users_df = events_df.dropDuplicates([\"user_id\"])\n",
    "display(distinct_users_df)"
   ]
  },
  {
   "cell_type": "markdown",
   "metadata": {
    "application/vnd.databricks.v1+cell": {
     "cellMetadata": {},
     "inputWidgets": {},
     "nuid": "8c12a5fe-a880-4cff-86b2-527ed0a785ee",
     "showTitle": false,
     "title": ""
    }
   },
   "source": [
    "#### **`limit()`**\n",
    "Returns a new DataFrame by taking the first n rows."
   ]
  },
  {
   "cell_type": "code",
   "execution_count": 0,
   "metadata": {
    "application/vnd.databricks.v1+cell": {
     "cellMetadata": {},
     "inputWidgets": {},
     "nuid": "502558ed-2757-4270-9d3b-27cbc5c4a32b",
     "showTitle": false,
     "title": ""
    }
   },
   "outputs": [],
   "source": [
    "limit_df = events_df.limit(100)\n",
    "display(limit_df)"
   ]
  },
  {
   "cell_type": "markdown",
   "metadata": {
    "application/vnd.databricks.v1+cell": {
     "cellMetadata": {},
     "inputWidgets": {},
     "nuid": "edeaaac5-ded6-4c76-be83-bdcd16625db8",
     "showTitle": false,
     "title": ""
    }
   },
   "source": [
    "### Sort rows\n",
    "Use DataFrame transformations to sort rows"
   ]
  },
  {
   "cell_type": "markdown",
   "metadata": {
    "application/vnd.databricks.v1+cell": {
     "cellMetadata": {},
     "inputWidgets": {},
     "nuid": "953847fe-7c50-4b3b-ae96-c5ce9e99412f",
     "showTitle": false,
     "title": ""
    }
   },
   "source": [
    "#### **`sort()`**\n",
    "Returns a new DataFrame sorted by the given columns or expressions.\n",
    "\n",
    "##### Alias: **`orderBy`**"
   ]
  },
  {
   "cell_type": "code",
   "execution_count": 0,
   "metadata": {
    "application/vnd.databricks.v1+cell": {
     "cellMetadata": {},
     "inputWidgets": {},
     "nuid": "89cf1478-0864-42a9-a112-cea684daf09f",
     "showTitle": false,
     "title": ""
    }
   },
   "outputs": [],
   "source": [
    "increase_timestamps_df = events_df.sort(\"event_timestamp\")\n",
    "display(increase_timestamps_df)"
   ]
  },
  {
   "cell_type": "code",
   "execution_count": 0,
   "metadata": {
    "application/vnd.databricks.v1+cell": {
     "cellMetadata": {},
     "inputWidgets": {},
     "nuid": "c9dca46d-82f4-4787-bcd3-6e88a89b84a5",
     "showTitle": false,
     "title": ""
    }
   },
   "outputs": [],
   "source": [
    "decrease_timestamp_df = events_df.sort(col(\"event_timestamp\").desc())\n",
    "display(decrease_timestamp_df)"
   ]
  },
  {
   "cell_type": "code",
   "execution_count": 0,
   "metadata": {
    "application/vnd.databricks.v1+cell": {
     "cellMetadata": {},
     "inputWidgets": {},
     "nuid": "33932e3f-f953-4a5c-86e1-a36b90482530",
     "showTitle": false,
     "title": ""
    }
   },
   "outputs": [],
   "source": [
    "increase_sessions_df = events_df.orderBy([\"user_first_touch_timestamp\", \"event_timestamp\"])\n",
    "display(increase_sessions_df)"
   ]
  },
  {
   "cell_type": "code",
   "execution_count": 0,
   "metadata": {
    "application/vnd.databricks.v1+cell": {
     "cellMetadata": {},
     "inputWidgets": {},
     "nuid": "8e0c5eec-1c21-444b-b732-b8b0cdbe0682",
     "showTitle": false,
     "title": ""
    }
   },
   "outputs": [],
   "source": [
    "decrease_sessions_df = events_df.sort(col(\"user_first_touch_timestamp\").desc(), col(\"event_timestamp\"))\n",
    "display(decrease_sessions_df)"
   ]
  },
  {
   "cell_type": "markdown",
   "metadata": {
    "application/vnd.databricks.v1+cell": {
     "cellMetadata": {},
     "inputWidgets": {},
     "nuid": "045b18a6-71ff-4c1f-8e57-a7db31c25fc5",
     "showTitle": false,
     "title": ""
    }
   },
   "source": [
    "Run the following cell to delete the tables and files associated with this lesson."
   ]
  },
  {
   "cell_type": "code",
   "execution_count": 0,
   "metadata": {
    "application/vnd.databricks.v1+cell": {
     "cellMetadata": {},
     "inputWidgets": {},
     "nuid": "9c6fc0de-8469-420f-bac9-f3f230a0b536",
     "showTitle": false,
     "title": ""
    }
   },
   "outputs": [],
   "source": [
    "DA.cleanup()"
   ]
  },
  {
   "cell_type": "markdown",
   "metadata": {
    "application/vnd.databricks.v1+cell": {
     "cellMetadata": {},
     "inputWidgets": {},
     "nuid": "4478cb85-7467-498b-822f-432fe7e45ca2",
     "showTitle": false,
     "title": ""
    }
   },
   "source": [
    "-sandbox\n",
    "&copy; 2022 Databricks, Inc. All rights reserved.<br/>\n",
    "Apache, Apache Spark, Spark and the Spark logo are trademarks of the <a href=\"https://www.apache.org/\">Apache Software Foundation</a>.<br/>\n",
    "<br/>\n",
    "<a href=\"https://databricks.com/privacy-policy\">Privacy Policy</a> | <a href=\"https://databricks.com/terms-of-use\">Terms of Use</a> | <a href=\"https://help.databricks.com/\">Support</a>"
   ]
  }
 ],
 "metadata": {
  "application/vnd.databricks.v1+notebook": {
   "dashboards": [],
   "language": "python",
   "notebookMetadata": {
    "pythonIndentUnit": 2
   },
   "notebookName": "DE 0.3 - DataFrame & Column",
   "widgets": {}
  }
 },
 "nbformat": 4,
 "nbformat_minor": 0
}

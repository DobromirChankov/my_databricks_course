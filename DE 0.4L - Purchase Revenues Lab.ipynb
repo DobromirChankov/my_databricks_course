{
 "cells": [
  {
   "cell_type": "markdown",
   "metadata": {
    "application/vnd.databricks.v1+cell": {
     "cellMetadata": {},
     "inputWidgets": {},
     "nuid": "f318e560-fae3-4ee2-b81e-69d4b74ab996",
     "showTitle": false,
     "title": ""
    }
   },
   "source": [
    "-sandbox\n",
    "\n",
    "<div style=\"text-align: center; line-height: 0; padding-top: 9px;\">\n",
    "  <img src=\"https://databricks.com/wp-content/uploads/2018/03/db-academy-rgb-1200px.png\" alt=\"Databricks Learning\" style=\"width: 600px\">\n",
    "</div>"
   ]
  },
  {
   "cell_type": "markdown",
   "metadata": {
    "application/vnd.databricks.v1+cell": {
     "cellMetadata": {},
     "inputWidgets": {},
     "nuid": "c69829d3-1a63-493b-ae6f-8ebaf15f510d",
     "showTitle": false,
     "title": ""
    }
   },
   "source": [
    "# Purchase Revenues Lab\n",
    "\n",
    "Prepare dataset of events with purchase revenue.\n",
    "\n",
    "##### Tasks\n",
    "1. Extract purchase revenue for each event\n",
    "2. Filter events where revenue is not null\n",
    "3. Check what types of events have revenue\n",
    "4. Drop unneeded column\n",
    "\n",
    "##### Methods\n",
    "- DataFrame: **`select`**, **`drop`**, **`withColumn`**, **`filter`**, **`dropDuplicates`**\n",
    "- Column: **`isNotNull`**"
   ]
  },
  {
   "cell_type": "code",
   "execution_count": 0,
   "metadata": {
    "application/vnd.databricks.v1+cell": {
     "cellMetadata": {},
     "inputWidgets": {},
     "nuid": "730ad8c2-d619-4b38-8dd6-86929ee31395",
     "showTitle": false,
     "title": ""
    }
   },
   "outputs": [],
   "source": [
    "%run ../Includes/Classroom-Setup-00.4L"
   ]
  },
  {
   "cell_type": "code",
   "execution_count": 0,
   "metadata": {
    "application/vnd.databricks.v1+cell": {
     "cellMetadata": {},
     "inputWidgets": {},
     "nuid": "0bb95ab1-3730-419c-ba16-94c9f06a62d1",
     "showTitle": false,
     "title": ""
    }
   },
   "outputs": [],
   "source": [
    "events_df = spark.table(\"events\")\n",
    "display(events_df)"
   ]
  },
  {
   "cell_type": "markdown",
   "metadata": {
    "application/vnd.databricks.v1+cell": {
     "cellMetadata": {},
     "inputWidgets": {},
     "nuid": "871fa6ff-2f35-4cfe-9fe1-ce655bb903a2",
     "showTitle": false,
     "title": ""
    }
   },
   "source": [
    "### 1. Extract purchase revenue for each event\n",
    "Add new column **`revenue`** by extracting **`ecommerce.purchase_revenue_in_usd`**"
   ]
  },
  {
   "cell_type": "code",
   "execution_count": 0,
   "metadata": {
    "application/vnd.databricks.v1+cell": {
     "cellMetadata": {},
     "inputWidgets": {},
     "nuid": "ae54d117-d60a-4b42-aed2-2c5864689d50",
     "showTitle": false,
     "title": ""
    }
   },
   "outputs": [],
   "source": [
    "# TODO\n",
    "revenue_df = events_df.FILL_IN\n",
    "display(revenue_df)"
   ]
  },
  {
   "cell_type": "markdown",
   "metadata": {
    "application/vnd.databricks.v1+cell": {
     "cellMetadata": {},
     "inputWidgets": {},
     "nuid": "40cc6ae7-147f-4999-a9c7-b68f5fcba952",
     "showTitle": false,
     "title": ""
    }
   },
   "source": [
    "**1.1: CHECK YOUR WORK**"
   ]
  },
  {
   "cell_type": "code",
   "execution_count": 0,
   "metadata": {
    "application/vnd.databricks.v1+cell": {
     "cellMetadata": {},
     "inputWidgets": {},
     "nuid": "1c26701d-12b0-4643-97c4-701f7b7a0c16",
     "showTitle": false,
     "title": ""
    }
   },
   "outputs": [],
   "source": [
    "from pyspark.sql.functions import col\n",
    "expected1 = [4351.5, 4044.0, 3985.0, 3946.5, 3885.0, 3590.0, 3490.0, 3451.5, 3406.5, 3385.0]\n",
    "result1 = [row.revenue for row in revenue_df.sort(col(\"revenue\").desc_nulls_last()).limit(10).collect()]\n",
    "print(result1)\n",
    "assert(expected1 == result1)\n",
    "print(\"All test pass\")"
   ]
  },
  {
   "cell_type": "markdown",
   "metadata": {
    "application/vnd.databricks.v1+cell": {
     "cellMetadata": {},
     "inputWidgets": {},
     "nuid": "e6424b88-8224-45c3-a47c-48aa1b2f162d",
     "showTitle": false,
     "title": ""
    }
   },
   "source": [
    "### 2. Filter events where revenue is not null\n",
    "Filter for records where **`revenue`** is not **`null`**"
   ]
  },
  {
   "cell_type": "code",
   "execution_count": 0,
   "metadata": {
    "application/vnd.databricks.v1+cell": {
     "cellMetadata": {},
     "inputWidgets": {},
     "nuid": "fbba4504-be4c-46b2-8914-738d347387db",
     "showTitle": false,
     "title": ""
    }
   },
   "outputs": [],
   "source": [
    "# TODO\n",
    "purchases_df = revenue_df.FILL_IN\n",
    "display(purchases_df)"
   ]
  },
  {
   "cell_type": "markdown",
   "metadata": {
    "application/vnd.databricks.v1+cell": {
     "cellMetadata": {},
     "inputWidgets": {},
     "nuid": "382d389b-e1d5-440f-9eac-7513727ecdad",
     "showTitle": false,
     "title": ""
    }
   },
   "source": [
    "**2.1: CHECK YOUR WORK**"
   ]
  },
  {
   "cell_type": "code",
   "execution_count": 0,
   "metadata": {
    "application/vnd.databricks.v1+cell": {
     "cellMetadata": {},
     "inputWidgets": {},
     "nuid": "35dfc88b-33ab-4bf5-a306-07e442927105",
     "showTitle": false,
     "title": ""
    }
   },
   "outputs": [],
   "source": [
    "assert purchases_df.filter(col(\"revenue\").isNull()).count() == 0, \"Nulls in 'revenue' column\"\n",
    "print(\"All test pass\")"
   ]
  },
  {
   "cell_type": "markdown",
   "metadata": {
    "application/vnd.databricks.v1+cell": {
     "cellMetadata": {},
     "inputWidgets": {},
     "nuid": "4faafadd-0ee2-428f-a032-bc2030ddc8e7",
     "showTitle": false,
     "title": ""
    }
   },
   "source": [
    "### 3. Check what types of events have revenue\n",
    "Find unique **`event_name`** values in **`purchases_df`** in one of two ways:\n",
    "- Select \"event_name\" and get distinct records\n",
    "- Drop duplicate records based on the \"event_name\" only\n",
    "\n",
    "<img src=\"https://files.training.databricks.com/images/icon_hint_32.png\" alt=\"Hint\"> There's only one event associated with revenues"
   ]
  },
  {
   "cell_type": "code",
   "execution_count": 0,
   "metadata": {
    "application/vnd.databricks.v1+cell": {
     "cellMetadata": {},
     "inputWidgets": {},
     "nuid": "ad9304e0-ab32-47c8-afbd-c5543ad3cc17",
     "showTitle": false,
     "title": ""
    }
   },
   "outputs": [],
   "source": [
    "# TODO\n",
    "distinct_df = purchases_df.FILL_IN\n",
    "display(distinct_df)"
   ]
  },
  {
   "cell_type": "markdown",
   "metadata": {
    "application/vnd.databricks.v1+cell": {
     "cellMetadata": {},
     "inputWidgets": {},
     "nuid": "8fbef13e-d998-4246-9d04-479f09413204",
     "showTitle": false,
     "title": ""
    }
   },
   "source": [
    "### 4. Drop unneeded column\n",
    "Since there's only one event type, drop **`event_name`** from **`purchases_df`**."
   ]
  },
  {
   "cell_type": "code",
   "execution_count": 0,
   "metadata": {
    "application/vnd.databricks.v1+cell": {
     "cellMetadata": {},
     "inputWidgets": {},
     "nuid": "3f986f40-0bbe-4031-b233-c0acbf896aa1",
     "showTitle": false,
     "title": ""
    }
   },
   "outputs": [],
   "source": [
    "# TODO\n",
    "final_df = purchases_df.FILL_IN\n",
    "display(final_df)"
   ]
  },
  {
   "cell_type": "markdown",
   "metadata": {
    "application/vnd.databricks.v1+cell": {
     "cellMetadata": {},
     "inputWidgets": {},
     "nuid": "22480f26-9ee7-452e-998f-39063160e9a7",
     "showTitle": false,
     "title": ""
    }
   },
   "source": [
    "**4.1: CHECK YOUR WORK**"
   ]
  },
  {
   "cell_type": "code",
   "execution_count": 0,
   "metadata": {
    "application/vnd.databricks.v1+cell": {
     "cellMetadata": {},
     "inputWidgets": {},
     "nuid": "5873f444-47d4-48b4-a775-c41bee15743e",
     "showTitle": false,
     "title": ""
    }
   },
   "outputs": [],
   "source": [
    "expected_columns = {\"device\", \"ecommerce\", \"event_previous_timestamp\", \"event_timestamp\",\n",
    "                    \"geo\", \"items\", \"revenue\", \"traffic_source\",\n",
    "                    \"user_first_touch_timestamp\", \"user_id\"}\n",
    "assert(set(final_df.columns) == expected_columns)\n",
    "print(\"All test pass\")"
   ]
  },
  {
   "cell_type": "markdown",
   "metadata": {
    "application/vnd.databricks.v1+cell": {
     "cellMetadata": {},
     "inputWidgets": {},
     "nuid": "462a3ad0-6dc0-4749-98e0-653eb63742a9",
     "showTitle": false,
     "title": ""
    }
   },
   "source": [
    "### 5. Chain all the steps above excluding step 3"
   ]
  },
  {
   "cell_type": "code",
   "execution_count": 0,
   "metadata": {
    "application/vnd.databricks.v1+cell": {
     "cellMetadata": {},
     "inputWidgets": {},
     "nuid": "a90bd0cf-d633-4abe-b6c6-7b7e95c7270b",
     "showTitle": false,
     "title": ""
    }
   },
   "outputs": [],
   "source": [
    "# TODO\n",
    "final_df = (events_df\n",
    "  .FILL_IN\n",
    ")\n",
    "\n",
    "display(final_df)"
   ]
  },
  {
   "cell_type": "markdown",
   "metadata": {
    "application/vnd.databricks.v1+cell": {
     "cellMetadata": {},
     "inputWidgets": {},
     "nuid": "b50c88a9-ff2b-4638-811d-8a6592a14bf8",
     "showTitle": false,
     "title": ""
    }
   },
   "source": [
    "**5.1: CHECK YOUR WORK**"
   ]
  },
  {
   "cell_type": "code",
   "execution_count": 0,
   "metadata": {
    "application/vnd.databricks.v1+cell": {
     "cellMetadata": {},
     "inputWidgets": {},
     "nuid": "c7ec6903-f78e-4426-bd32-3da83a036409",
     "showTitle": false,
     "title": ""
    }
   },
   "outputs": [],
   "source": [
    "assert(final_df.count() == 9056)\n",
    "print(\"All test pass\")"
   ]
  },
  {
   "cell_type": "code",
   "execution_count": 0,
   "metadata": {
    "application/vnd.databricks.v1+cell": {
     "cellMetadata": {},
     "inputWidgets": {},
     "nuid": "6658c704-82a2-46ea-ada9-35bd8cefde2d",
     "showTitle": false,
     "title": ""
    }
   },
   "outputs": [],
   "source": [
    "expected_columns = {\"device\", \"ecommerce\", \"event_previous_timestamp\", \"event_timestamp\",\n",
    "                    \"geo\", \"items\", \"revenue\", \"traffic_source\",\n",
    "                    \"user_first_touch_timestamp\", \"user_id\"}\n",
    "assert(set(final_df.columns) == expected_columns)\n",
    "print(\"All test pass\")"
   ]
  },
  {
   "cell_type": "markdown",
   "metadata": {
    "application/vnd.databricks.v1+cell": {
     "cellMetadata": {},
     "inputWidgets": {},
     "nuid": "f1380094-efe3-4778-98eb-20dd038b0e18",
     "showTitle": false,
     "title": ""
    }
   },
   "source": [
    "Run the following cell to delete the tables and files associated with this lesson."
   ]
  },
  {
   "cell_type": "code",
   "execution_count": 0,
   "metadata": {
    "application/vnd.databricks.v1+cell": {
     "cellMetadata": {},
     "inputWidgets": {},
     "nuid": "c5f3c0fa-1b41-41fb-8111-d1857db0c39d",
     "showTitle": false,
     "title": ""
    }
   },
   "outputs": [],
   "source": [
    "DA.cleanup()"
   ]
  },
  {
   "cell_type": "markdown",
   "metadata": {
    "application/vnd.databricks.v1+cell": {
     "cellMetadata": {},
     "inputWidgets": {},
     "nuid": "bdc96a31-70a6-4d92-a14c-3bccd738039f",
     "showTitle": false,
     "title": ""
    }
   },
   "source": [
    "-sandbox\n",
    "&copy; 2022 Databricks, Inc. All rights reserved.<br/>\n",
    "Apache, Apache Spark, Spark and the Spark logo are trademarks of the <a href=\"https://www.apache.org/\">Apache Software Foundation</a>.<br/>\n",
    "<br/>\n",
    "<a href=\"https://databricks.com/privacy-policy\">Privacy Policy</a> | <a href=\"https://databricks.com/terms-of-use\">Terms of Use</a> | <a href=\"https://help.databricks.com/\">Support</a>"
   ]
  }
 ],
 "metadata": {
  "application/vnd.databricks.v1+notebook": {
   "dashboards": [],
   "language": "python",
   "notebookMetadata": {
    "pythonIndentUnit": 2
   },
   "notebookName": "DE 0.4L - Purchase Revenues Lab",
   "widgets": {}
  }
 },
 "nbformat": 4,
 "nbformat_minor": 0
}

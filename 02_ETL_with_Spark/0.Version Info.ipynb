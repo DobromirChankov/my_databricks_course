{
 "cells": [
  {
   "cell_type": "markdown",
   "metadata": {
    "application/vnd.databricks.v1+cell": {
     "cellMetadata": {},
     "inputWidgets": {},
     "nuid": "97f8c36b-14f5-47fd-9ec9-47f5169969b0",
     "showTitle": false,
     "title": ""
    }
   },
   "source": [
    "-sandbox\n",
    "\n",
    "<div style=\"text-align: center; line-height: 0; padding-top: 9px;\">\n",
    "  <img src=\"https://databricks.com/wp-content/uploads/2018/03/db-academy-rgb-1200px.png\" alt=\"Databricks Learning\" style=\"width: 600px\">\n",
    "</div>"
   ]
  },
  {
   "cell_type": "markdown",
   "metadata": {
    "application/vnd.databricks.v1+cell": {
     "cellMetadata": {},
     "inputWidgets": {},
     "nuid": "a38a0572-f36f-48ed-a8e8-2f5236d069a8",
     "showTitle": false,
     "title": ""
    }
   },
   "source": [
    "# Project Information\n",
    "\n",
    "* Name: **Data Engineer Learning Path**\n",
    "* Version:  **1.0.1**\n",
    "* Built On: **Oct 13, 2022 at 18:45:02 UTC**"
   ]
  },
  {
   "cell_type": "markdown",
   "metadata": {
    "application/vnd.databricks.v1+cell": {
     "cellMetadata": {},
     "inputWidgets": {},
     "nuid": "57f0cdc7-89ba-4a95-9b75-93ac1069aab2",
     "showTitle": false,
     "title": ""
    }
   },
   "source": [
    "## Trouble Shoooting\n",
    "* Spark Version\n",
    "* Cannot Install Libraries\n",
    "* Requires Unity Catalog\n",
    "* Cannot Create Schema\n",
    "* Cannot Create Catalog\n",
    "    * Required\n",
    "    * Not Required"
   ]
  },
  {
   "cell_type": "markdown",
   "metadata": {
    "application/vnd.databricks.v1+cell": {
     "cellMetadata": {},
     "inputWidgets": {},
     "nuid": "501a5f47-6e45-446e-9f4c-b0af8747c70d",
     "showTitle": false,
     "title": ""
    }
   },
   "source": [
    "### Spark Version\n",
    "To ensure that all labs execute as expected, Databricks Academy requires that the content provided be executed against a cluster configured with a specific runtime. Typically this is an LTS (long-term supported) version.\n",
    "\n",
    "This course was tested against, and requires, one of the following DBRs (Databricks Runtime): **11.3.x-scala2.12, 11.3.x-photon-scala2.12, 11.3.x-cpu-ml-scala2.12**.\n",
    "\n",
    "Please reconfigure your cluster accordingly."
   ]
  },
  {
   "cell_type": "markdown",
   "metadata": {
    "application/vnd.databricks.v1+cell": {
     "cellMetadata": {},
     "inputWidgets": {},
     "nuid": "356aef27-6923-4b67-8ecb-f1b52bc3af34",
     "showTitle": false,
     "title": ""
    }
   },
   "source": [
    "## Copyrights\n",
    "This section documents the various copyrights as they relate to the datasets used in this course."
   ]
  },
  {
   "cell_type": "markdown",
   "metadata": {
    "application/vnd.databricks.v1+cell": {
     "cellMetadata": {},
     "inputWidgets": {},
     "nuid": "6df7fd69-83ab-4da0-826e-6dadd96cc256",
     "showTitle": false,
     "title": ""
    }
   },
   "source": [
    "Run the following cell for additional information on this course's datasets, and their copyrights."
   ]
  },
  {
   "cell_type": "code",
   "execution_count": 0,
   "metadata": {
    "application/vnd.databricks.v1+cell": {
     "cellMetadata": {},
     "inputWidgets": {},
     "nuid": "5f85c96a-570f-41c0-832e-d47308f81e42",
     "showTitle": false,
     "title": ""
    }
   },
   "outputs": [],
   "source": [
    "%run ./Includes/Print-Dataset-Copyrights"
   ]
  },
  {
   "cell_type": "markdown",
   "metadata": {
    "application/vnd.databricks.v1+cell": {
     "cellMetadata": {},
     "inputWidgets": {},
     "nuid": "17c7c92b-6488-4931-a3e4-155cb03809e3",
     "showTitle": false,
     "title": ""
    }
   },
   "source": [
    "-sandbox\n",
    "&copy; 2022 Databricks, Inc. All rights reserved.<br/>\n",
    "Apache, Apache Spark, Spark and the Spark logo are trademarks of the <a href=\"https://www.apache.org/\">Apache Software Foundation</a>.<br/>\n",
    "<br/>\n",
    "<a href=\"https://databricks.com/privacy-policy\">Privacy Policy</a> | <a href=\"https://databricks.com/terms-of-use\">Terms of Use</a> | <a href=\"https://help.databricks.com/\">Support</a>"
   ]
  }
 ],
 "metadata": {
  "application/vnd.databricks.v1+notebook": {
   "dashboards": [],
   "language": "python",
   "notebookMetadata": {
    "pythonIndentUnit": 4
   },
   "notebookName": "Version Info",
   "widgets": {}
  }
 },
 "nbformat": 4,
 "nbformat_minor": 0
}

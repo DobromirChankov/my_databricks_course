{
 "cells": [
  {
   "cell_type": "markdown",
   "metadata": {
    "application/vnd.databricks.v1+cell": {
     "cellMetadata": {},
     "inputWidgets": {},
     "nuid": "2c59bf53-0eb2-41e7-b424-4c34297eaf99",
     "showTitle": false,
     "title": ""
    }
   },
   "source": [
    "-sandbox\n",
    "\n",
    "<div style=\"text-align: center; line-height: 0; padding-top: 9px;\">\n",
    "  <img src=\"https://databricks.com/wp-content/uploads/2018/03/db-academy-rgb-1200px.png\" alt=\"Databricks Learning\" style=\"width: 600px\">\n",
    "</div>"
   ]
  },
  {
   "cell_type": "markdown",
   "metadata": {
    "application/vnd.databricks.v1+cell": {
     "cellMetadata": {},
     "inputWidgets": {},
     "nuid": "661aecef-6858-4ee1-b5b3-b2f6d62db9f1",
     "showTitle": false,
     "title": ""
    }
   },
   "source": [
    "# Spark SQL Lab\n",
    "\n",
    "##### Tasks\n",
    "1. Create a DataFrame from the **`events`** table\n",
    "1. Display the DataFrame and inspect its schema\n",
    "1. Apply transformations to filter and sort **`macOS`** events\n",
    "1. Count results and take the first 5 rows\n",
    "1. Create the same DataFrame using a SQL query\n",
    "\n",
    "##### Methods\n",
    "- <a href=\"https://spark.apache.org/docs/latest/api/python/reference/pyspark.sql/spark_session.html\" target=\"_blank\">SparkSession</a>: **`sql`**, **`table`**\n",
    "- <a href=\"https://spark.apache.org/docs/latest/api/python/reference/pyspark.sql/dataframe.html\" target=\"_blank\">DataFrame</a> transformations: **`select`**, **`where`**, **`orderBy`**\n",
    "- <a href=\"https://spark.apache.org/docs/latest/api/python/reference/api/pyspark.sql.DataFrame.html\" target=\"_blank\">DataFrame</a> actions: **`select`**, **`count`**, **`take`**\n",
    "- Other <a href=\"https://spark.apache.org/docs/latest/api/python/reference/pyspark.sql/dataframe.html\" target=\"_blank\">DataFrame</a> methods: **`printSchema`**, **`schema`**, **`createOrReplaceTempView`**"
   ]
  },
  {
   "cell_type": "code",
   "execution_count": 0,
   "metadata": {
    "application/vnd.databricks.v1+cell": {
     "cellMetadata": {},
     "inputWidgets": {},
     "nuid": "b56c2ff1-c5f4-425c-984a-ef2fad42c69f",
     "showTitle": false,
     "title": ""
    }
   },
   "outputs": [],
   "source": [
    "%run ../Includes/Classroom-Setup-00.2L"
   ]
  },
  {
   "cell_type": "markdown",
   "metadata": {
    "application/vnd.databricks.v1+cell": {
     "cellMetadata": {},
     "inputWidgets": {},
     "nuid": "6abd50e3-56b2-4c37-9bbd-01e5443b6e1e",
     "showTitle": false,
     "title": ""
    }
   },
   "source": [
    "### 1. Create a DataFrame from the **`events`** table\n",
    "- Use SparkSession to create a DataFrame from the **`events`** table"
   ]
  },
  {
   "cell_type": "code",
   "execution_count": 0,
   "metadata": {
    "application/vnd.databricks.v1+cell": {
     "cellMetadata": {},
     "inputWidgets": {},
     "nuid": "d133c79f-2e68-425a-84bc-f4952081e32d",
     "showTitle": false,
     "title": ""
    }
   },
   "outputs": [],
   "source": [
    "# TODO\n",
    "events_df = FILL_IN"
   ]
  },
  {
   "cell_type": "markdown",
   "metadata": {
    "application/vnd.databricks.v1+cell": {
     "cellMetadata": {},
     "inputWidgets": {},
     "nuid": "78f7f236-a1f8-4b2f-8bb4-a9cbaf38bdbc",
     "showTitle": false,
     "title": ""
    }
   },
   "source": [
    "### 2. Display DataFrame and inspect schema\n",
    "- Use methods above to inspect DataFrame contents and schema"
   ]
  },
  {
   "cell_type": "code",
   "execution_count": 0,
   "metadata": {
    "application/vnd.databricks.v1+cell": {
     "cellMetadata": {},
     "inputWidgets": {},
     "nuid": "b79572b0-b241-4a97-a494-2c33ae6d086e",
     "showTitle": false,
     "title": ""
    }
   },
   "outputs": [],
   "source": [
    "# TODO"
   ]
  },
  {
   "cell_type": "markdown",
   "metadata": {
    "application/vnd.databricks.v1+cell": {
     "cellMetadata": {},
     "inputWidgets": {},
     "nuid": "32e42d08-848b-42fe-8f11-a1adc9b9fa06",
     "showTitle": false,
     "title": ""
    }
   },
   "source": [
    "### 3. Apply transformations to filter and sort **`macOS`** events\n",
    "- Filter for rows where **`device`** is **`macOS`**\n",
    "- Sort rows by **`event_timestamp`**\n",
    "\n",
    "<img src=\"https://files.training.databricks.com/images/icon_hint_32.png\" alt=\"Hint\"> Use single and double quotes in your filter SQL expression"
   ]
  },
  {
   "cell_type": "code",
   "execution_count": 0,
   "metadata": {
    "application/vnd.databricks.v1+cell": {
     "cellMetadata": {},
     "inputWidgets": {},
     "nuid": "f4bd6911-c0c8-4989-92de-8b2825cfba43",
     "showTitle": false,
     "title": ""
    }
   },
   "outputs": [],
   "source": [
    "# TODO\n",
    "mac_df = (events_df\n",
    "          .FILL_IN\n",
    "         )"
   ]
  },
  {
   "cell_type": "markdown",
   "metadata": {
    "application/vnd.databricks.v1+cell": {
     "cellMetadata": {},
     "inputWidgets": {},
     "nuid": "231a4125-a228-4dec-ba0a-43080aacabb4",
     "showTitle": false,
     "title": ""
    }
   },
   "source": [
    "### 4. Count results and take first 5 rows\n",
    "- Use DataFrame actions to count and take rows"
   ]
  },
  {
   "cell_type": "code",
   "execution_count": 0,
   "metadata": {
    "application/vnd.databricks.v1+cell": {
     "cellMetadata": {},
     "inputWidgets": {},
     "nuid": "1d093122-4932-4985-a79b-8d92b96edcc3",
     "showTitle": false,
     "title": ""
    }
   },
   "outputs": [],
   "source": [
    "# TODO\n",
    "num_rows = mac_df.FILL_IN\n",
    "rows = mac_df.FILL_IN"
   ]
  },
  {
   "cell_type": "markdown",
   "metadata": {
    "application/vnd.databricks.v1+cell": {
     "cellMetadata": {},
     "inputWidgets": {},
     "nuid": "cc412f08-dcc5-4d6a-92ab-f93154481903",
     "showTitle": false,
     "title": ""
    }
   },
   "source": [
    "**4.1: CHECK YOUR WORK**"
   ]
  },
  {
   "cell_type": "code",
   "execution_count": 0,
   "metadata": {
    "application/vnd.databricks.v1+cell": {
     "cellMetadata": {},
     "inputWidgets": {},
     "nuid": "e9314543-e89f-4ecd-ad00-68c99872fa26",
     "showTitle": false,
     "title": ""
    }
   },
   "outputs": [],
   "source": [
    "from pyspark.sql import Row\n",
    "\n",
    "assert(num_rows == 97150)\n",
    "assert(len(rows) == 5)\n",
    "assert(type(rows[0]) == Row)\n",
    "print(\"All test pass\")"
   ]
  },
  {
   "cell_type": "markdown",
   "metadata": {
    "application/vnd.databricks.v1+cell": {
     "cellMetadata": {},
     "inputWidgets": {},
     "nuid": "22107500-c197-4feb-a22b-220071e048bc",
     "showTitle": false,
     "title": ""
    }
   },
   "source": [
    "### 5. Create the same DataFrame using SQL query\n",
    "- Use SparkSession to run a SQL query on the **`events`** table\n",
    "- Use SQL commands to write the same filter and sort query used earlier"
   ]
  },
  {
   "cell_type": "code",
   "execution_count": 0,
   "metadata": {
    "application/vnd.databricks.v1+cell": {
     "cellMetadata": {},
     "inputWidgets": {},
     "nuid": "f323ed37-0873-49de-aeb3-3cba233f1878",
     "showTitle": false,
     "title": ""
    }
   },
   "outputs": [],
   "source": [
    "# TODO\n",
    "mac_sql_df = spark.FILL_IN\n",
    "\n",
    "display(mac_sql_df)"
   ]
  },
  {
   "cell_type": "markdown",
   "metadata": {
    "application/vnd.databricks.v1+cell": {
     "cellMetadata": {},
     "inputWidgets": {},
     "nuid": "3024f29a-7517-4bf1-b58a-6b464c4e398d",
     "showTitle": false,
     "title": ""
    }
   },
   "source": [
    "**5.1: CHECK YOUR WORK**\n",
    "- You should only see **`macOS`** values in the **`device`** column\n",
    "- The fifth row should be an event with timestamp **`1592539226602157`**"
   ]
  },
  {
   "cell_type": "code",
   "execution_count": 0,
   "metadata": {
    "application/vnd.databricks.v1+cell": {
     "cellMetadata": {},
     "inputWidgets": {},
     "nuid": "bb822a04-0b0f-4599-ab6b-18b1983ebc29",
     "showTitle": false,
     "title": ""
    }
   },
   "outputs": [],
   "source": [
    "verify_rows = mac_sql_df.take(5)\n",
    "assert (mac_sql_df.select(\"device\").distinct().count() == 1 and len(verify_rows) == 5 and verify_rows[0]['device'] == \"macOS\"), \"Incorrect filter condition\"\n",
    "assert (verify_rows[4]['event_timestamp'] == 1592540419446946), \"Incorrect sorting\"\n",
    "del verify_rows\n",
    "print(\"All test pass\")"
   ]
  },
  {
   "cell_type": "markdown",
   "metadata": {
    "application/vnd.databricks.v1+cell": {
     "cellMetadata": {},
     "inputWidgets": {},
     "nuid": "0ab6221d-582b-40a4-8fd0-619f52d757ce",
     "showTitle": false,
     "title": ""
    }
   },
   "source": [
    "Run the following cell to delete the tables and files associated with this lesson."
   ]
  },
  {
   "cell_type": "code",
   "execution_count": 0,
   "metadata": {
    "application/vnd.databricks.v1+cell": {
     "cellMetadata": {},
     "inputWidgets": {},
     "nuid": "a57fb61f-f94a-4c72-8109-769e3abcad84",
     "showTitle": false,
     "title": ""
    }
   },
   "outputs": [],
   "source": [
    "DA.cleanup()"
   ]
  },
  {
   "cell_type": "markdown",
   "metadata": {
    "application/vnd.databricks.v1+cell": {
     "cellMetadata": {},
     "inputWidgets": {},
     "nuid": "6e65198f-a133-407f-9c7a-37e0f57fa3a8",
     "showTitle": false,
     "title": ""
    }
   },
   "source": [
    "-sandbox\n",
    "&copy; 2022 Databricks, Inc. All rights reserved.<br/>\n",
    "Apache, Apache Spark, Spark and the Spark logo are trademarks of the <a href=\"https://www.apache.org/\">Apache Software Foundation</a>.<br/>\n",
    "<br/>\n",
    "<a href=\"https://databricks.com/privacy-policy\">Privacy Policy</a> | <a href=\"https://databricks.com/terms-of-use\">Terms of Use</a> | <a href=\"https://help.databricks.com/\">Support</a>"
   ]
  }
 ],
 "metadata": {
  "application/vnd.databricks.v1+notebook": {
   "dashboards": [],
   "language": "python",
   "notebookMetadata": {
    "pythonIndentUnit": 2
   },
   "notebookName": "DE 0.2L - Spark SQL Lab",
   "widgets": {}
  }
 },
 "nbformat": 4,
 "nbformat_minor": 0
}

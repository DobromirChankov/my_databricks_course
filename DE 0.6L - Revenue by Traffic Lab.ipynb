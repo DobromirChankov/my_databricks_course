{
 "cells": [
  {
   "cell_type": "markdown",
   "metadata": {
    "application/vnd.databricks.v1+cell": {
     "cellMetadata": {},
     "inputWidgets": {},
     "nuid": "6700af65-6dec-4bec-9b96-866d70f37f64",
     "showTitle": false,
     "title": ""
    }
   },
   "source": [
    "-sandbox\n",
    "\n",
    "<div style=\"text-align: center; line-height: 0; padding-top: 9px;\">\n",
    "  <img src=\"https://databricks.com/wp-content/uploads/2018/03/db-academy-rgb-1200px.png\" alt=\"Databricks Learning\" style=\"width: 600px\">\n",
    "</div>"
   ]
  },
  {
   "cell_type": "markdown",
   "metadata": {
    "application/vnd.databricks.v1+cell": {
     "cellMetadata": {},
     "inputWidgets": {},
     "nuid": "f1a902e1-4832-451d-8686-5f9b0f3203eb",
     "showTitle": false,
     "title": ""
    }
   },
   "source": [
    "# Revenue by Traffic Lab\n",
    "Get the 3 traffic sources generating the highest total revenue.\n",
    "1. Aggregate revenue by traffic source\n",
    "2. Get top 3 traffic sources by total revenue\n",
    "3. Clean revenue columns to have two decimal places\n",
    "\n",
    "##### Methods\n",
    "- <a href=\"https://spark.apache.org/docs/latest/api/python/reference/pyspark.sql/dataframe.html\" target=\"_blank\">DataFrame</a>: **`groupBy`**, **`sort`**, **`limit`**\n",
    "- <a href=\"https://spark.apache.org/docs/latest/api/python/reference/pyspark.sql/column.html\" target=\"_blank\">Column</a>: **`alias`**, **`desc`**, **`cast`**, **`operators`**\n",
    "- <a href=\"https://spark.apache.org/docs/latest/api/python/reference/pyspark.sql/functions.html\" target=\"_blank\">Built-in Functions</a>: **`avg`**, **`sum`**"
   ]
  },
  {
   "cell_type": "code",
   "execution_count": 0,
   "metadata": {
    "application/vnd.databricks.v1+cell": {
     "cellMetadata": {},
     "inputWidgets": {},
     "nuid": "a03a07f9-3861-46f3-aded-a1436340e579",
     "showTitle": false,
     "title": ""
    }
   },
   "outputs": [],
   "source": [
    "%run ../Includes/Classroom-Setup-00.6L"
   ]
  },
  {
   "cell_type": "markdown",
   "metadata": {
    "application/vnd.databricks.v1+cell": {
     "cellMetadata": {},
     "inputWidgets": {},
     "nuid": "b51b1c9b-e19a-42f1-8457-5cb08417d6a6",
     "showTitle": false,
     "title": ""
    }
   },
   "source": [
    "### Setup\n",
    "Run the cell below to create the starting DataFrame **`df`**."
   ]
  },
  {
   "cell_type": "code",
   "execution_count": 0,
   "metadata": {
    "application/vnd.databricks.v1+cell": {
     "cellMetadata": {},
     "inputWidgets": {},
     "nuid": "cceca421-7368-4bc2-865a-ac8cac951357",
     "showTitle": false,
     "title": ""
    }
   },
   "outputs": [],
   "source": [
    "from pyspark.sql.functions import col\n",
    "\n",
    "# Purchase events logged on the BedBricks website\n",
    "df = (spark.table(\"events\")\n",
    "      .withColumn(\"revenue\", col(\"ecommerce.purchase_revenue_in_usd\"))\n",
    "      .filter(col(\"revenue\").isNotNull())\n",
    "      .drop(\"event_name\")\n",
    "     )\n",
    "\n",
    "display(df)"
   ]
  },
  {
   "cell_type": "markdown",
   "metadata": {
    "application/vnd.databricks.v1+cell": {
     "cellMetadata": {},
     "inputWidgets": {},
     "nuid": "0caa8c89-36aa-4e52-84bc-9fc88dda0cd4",
     "showTitle": false,
     "title": ""
    }
   },
   "source": [
    "### 1. Aggregate revenue by traffic source\n",
    "- Group by **`traffic_source`**\n",
    "- Get sum of **`revenue`** as **`total_rev`**. Round this to the tens decimal place (e.g. `nnnnn.n`). \n",
    "- Get average of **`revenue`** as **`avg_rev`**\n",
    "\n",
    "Remember to import any necessary built-in functions."
   ]
  },
  {
   "cell_type": "code",
   "execution_count": 0,
   "metadata": {
    "application/vnd.databricks.v1+cell": {
     "cellMetadata": {},
     "inputWidgets": {},
     "nuid": "96d0c220-9bd6-4eb0-92ee-31246780c3f6",
     "showTitle": false,
     "title": ""
    }
   },
   "outputs": [],
   "source": [
    "# TODO\n",
    "\n",
    "traffic_df = (df.FILL_IN\n",
    ")\n",
    "\n",
    "display(traffic_df)"
   ]
  },
  {
   "cell_type": "markdown",
   "metadata": {
    "application/vnd.databricks.v1+cell": {
     "cellMetadata": {},
     "inputWidgets": {},
     "nuid": "3d7c4470-e0e1-410c-aefb-9b08afd2371e",
     "showTitle": false,
     "title": ""
    }
   },
   "source": [
    "**1.1: CHECK YOUR WORK**"
   ]
  },
  {
   "cell_type": "code",
   "execution_count": 0,
   "metadata": {
    "application/vnd.databricks.v1+cell": {
     "cellMetadata": {},
     "inputWidgets": {},
     "nuid": "ad721be8-735b-40df-8c32-a9177d590519",
     "showTitle": false,
     "title": ""
    }
   },
   "outputs": [],
   "source": [
    "from pyspark.sql.functions import round\n",
    "\n",
    "expected1 = [(620096.0, 1049.2318), (4026578.5, 986.1814), (1200591.0, 1067.192), (2322856.0, 1093.1087), (826921.0, 1086.6242), (404911.0, 1091.4043)]\n",
    "test_df = traffic_df.sort(\"traffic_source\").select(round(\"total_rev\", 4).alias(\"total_rev\"), round(\"avg_rev\", 4).alias(\"avg_rev\"))\n",
    "result1 = [(row.total_rev, row.avg_rev) for row in test_df.collect()]\n",
    "\n",
    "assert(expected1 == result1)\n",
    "print(\"All test pass\")"
   ]
  },
  {
   "cell_type": "markdown",
   "metadata": {
    "application/vnd.databricks.v1+cell": {
     "cellMetadata": {},
     "inputWidgets": {},
     "nuid": "b19c41d3-6b6f-4507-8178-9a973431fc98",
     "showTitle": false,
     "title": ""
    }
   },
   "source": [
    "### 2. Get top three traffic sources by total revenue\n",
    "- Sort by **`total_rev`** in descending order\n",
    "- Limit to first three rows"
   ]
  },
  {
   "cell_type": "code",
   "execution_count": 0,
   "metadata": {
    "application/vnd.databricks.v1+cell": {
     "cellMetadata": {},
     "inputWidgets": {},
     "nuid": "8cc70e62-688e-4112-ab4b-393f4ca3bbca",
     "showTitle": false,
     "title": ""
    }
   },
   "outputs": [],
   "source": [
    "# TODO\n",
    "top_traffic_df = (traffic_df.FILL_IN\n",
    ")\n",
    "display(top_traffic_df)"
   ]
  },
  {
   "cell_type": "markdown",
   "metadata": {
    "application/vnd.databricks.v1+cell": {
     "cellMetadata": {},
     "inputWidgets": {},
     "nuid": "22da8bb4-c3b5-4a79-95b0-f7d09b930aea",
     "showTitle": false,
     "title": ""
    }
   },
   "source": [
    "**2.1: CHECK YOUR WORK**"
   ]
  },
  {
   "cell_type": "code",
   "execution_count": 0,
   "metadata": {
    "application/vnd.databricks.v1+cell": {
     "cellMetadata": {},
     "inputWidgets": {},
     "nuid": "a3ae07c8-1c53-4f08-b488-0938b14ebb1d",
     "showTitle": false,
     "title": ""
    }
   },
   "outputs": [],
   "source": [
    "expected2 = [(4026578.5, 986.1814), (2322856.0, 1093.1087), (1200591.0, 1067.192)]\n",
    "test_df = top_traffic_df.select(round(\"total_rev\", 4).alias(\"total_rev\"), round(\"avg_rev\", 4).alias(\"avg_rev\"))\n",
    "result2 = [(row.total_rev, row.avg_rev) for row in test_df.collect()]\n",
    "\n",
    "assert(expected2 == result2)\n",
    "print(\"All test pass\")"
   ]
  },
  {
   "cell_type": "markdown",
   "metadata": {
    "application/vnd.databricks.v1+cell": {
     "cellMetadata": {},
     "inputWidgets": {},
     "nuid": "ba0c9706-67a1-4cb1-a8eb-49b34c0fcf74",
     "showTitle": false,
     "title": ""
    }
   },
   "source": [
    "### 3. Limit revenue columns to two decimal places\n",
    "- Modify columns **`avg_rev`** and **`total_rev`** to contain numbers with two decimal places\n",
    "  - Use **`withColumn()`** with the same names to replace these columns\n",
    "  - To limit to two decimal places, multiply each column by 100, cast to long, and then divide by 100"
   ]
  },
  {
   "cell_type": "code",
   "execution_count": 0,
   "metadata": {
    "application/vnd.databricks.v1+cell": {
     "cellMetadata": {},
     "inputWidgets": {},
     "nuid": "5631deef-1a57-4aa3-baa2-4c0c1af46c59",
     "showTitle": false,
     "title": ""
    }
   },
   "outputs": [],
   "source": [
    "# TODO\n",
    "final_df = (top_traffic_df.FILL_IN\n",
    ")\n",
    "\n",
    "display(final_df)"
   ]
  },
  {
   "cell_type": "markdown",
   "metadata": {
    "application/vnd.databricks.v1+cell": {
     "cellMetadata": {},
     "inputWidgets": {},
     "nuid": "4c5f8530-6eda-4669-acf2-3478c4dd2a04",
     "showTitle": false,
     "title": ""
    }
   },
   "source": [
    "**3.1: CHECK YOUR WORK**"
   ]
  },
  {
   "cell_type": "code",
   "execution_count": 0,
   "metadata": {
    "application/vnd.databricks.v1+cell": {
     "cellMetadata": {},
     "inputWidgets": {},
     "nuid": "b91e7b74-ebe0-42bc-8a1c-080bedeea261",
     "showTitle": false,
     "title": ""
    }
   },
   "outputs": [],
   "source": [
    "expected3 = [(4026578.5, 986.18), (2322856.0, 1093.1), (1200591.0, 1067.19)]\n",
    "result3 = [(row.total_rev, row.avg_rev) for row in final_df.collect()]\n",
    "\n",
    "assert(expected3 == result3)\n",
    "print(\"All test pass\")"
   ]
  },
  {
   "cell_type": "markdown",
   "metadata": {
    "application/vnd.databricks.v1+cell": {
     "cellMetadata": {},
     "inputWidgets": {},
     "nuid": "3123c62e-2576-47fa-9bbf-0fc8e882c98b",
     "showTitle": false,
     "title": ""
    }
   },
   "source": [
    "### 4. Bonus: Rewrite using a built-in math function\n",
    "Find a built-in math function that rounds to a specified number of decimal places"
   ]
  },
  {
   "cell_type": "code",
   "execution_count": 0,
   "metadata": {
    "application/vnd.databricks.v1+cell": {
     "cellMetadata": {},
     "inputWidgets": {},
     "nuid": "dbf88501-d32d-45e4-912b-b5d9a6cbb52f",
     "showTitle": false,
     "title": ""
    }
   },
   "outputs": [],
   "source": [
    "# TODO\n",
    "bonus_df = (top_traffic_df.FILL_IN\n",
    ")\n",
    "\n",
    "display(bonus_df)"
   ]
  },
  {
   "cell_type": "markdown",
   "metadata": {
    "application/vnd.databricks.v1+cell": {
     "cellMetadata": {},
     "inputWidgets": {},
     "nuid": "812b2ae4-4299-4b23-b95e-147b41386425",
     "showTitle": false,
     "title": ""
    }
   },
   "source": [
    "**4.1: CHECK YOUR WORK**"
   ]
  },
  {
   "cell_type": "code",
   "execution_count": 0,
   "metadata": {
    "application/vnd.databricks.v1+cell": {
     "cellMetadata": {},
     "inputWidgets": {},
     "nuid": "28660ef5-9dd9-48c3-9885-92b746de1305",
     "showTitle": false,
     "title": ""
    }
   },
   "outputs": [],
   "source": [
    "expected4 = [(4026578.5, 986.18), (2322856.0, 1093.11), (1200591.0, 1067.19)]\n",
    "result4 = [(row.total_rev, row.avg_rev) for row in bonus_df.collect()]\n",
    "\n",
    "assert(expected4 == result4)\n",
    "print(\"All test pass\")"
   ]
  },
  {
   "cell_type": "markdown",
   "metadata": {
    "application/vnd.databricks.v1+cell": {
     "cellMetadata": {},
     "inputWidgets": {},
     "nuid": "249de16e-1fde-42f0-8104-76a8843034b6",
     "showTitle": false,
     "title": ""
    }
   },
   "source": [
    "### 5. Chain all the steps above"
   ]
  },
  {
   "cell_type": "code",
   "execution_count": 0,
   "metadata": {
    "application/vnd.databricks.v1+cell": {
     "cellMetadata": {},
     "inputWidgets": {},
     "nuid": "66c71a5f-79a0-45a6-b405-464e34585ed4",
     "showTitle": false,
     "title": ""
    }
   },
   "outputs": [],
   "source": [
    "# TODO\n",
    "chain_df = (df.FILL_IN\n",
    ")\n",
    "\n",
    "display(chain_df)"
   ]
  },
  {
   "cell_type": "markdown",
   "metadata": {
    "application/vnd.databricks.v1+cell": {
     "cellMetadata": {},
     "inputWidgets": {},
     "nuid": "c725f115-a4c7-46e2-8106-7be858795fd5",
     "showTitle": false,
     "title": ""
    }
   },
   "source": [
    "**5.1: CHECK YOUR WORK**"
   ]
  },
  {
   "cell_type": "code",
   "execution_count": 0,
   "metadata": {
    "application/vnd.databricks.v1+cell": {
     "cellMetadata": {},
     "inputWidgets": {},
     "nuid": "e5c61da9-4620-4c8a-ad8a-ecda6f89dbd2",
     "showTitle": false,
     "title": ""
    }
   },
   "outputs": [],
   "source": [
    "expected5 = [(4026578.5, 986.18), (2322856.0, 1093.11), (1200591.0, 1067.19)]\n",
    "result5 = [(row.total_rev, row.avg_rev) for row in chain_df.collect()]\n",
    "\n",
    "assert(expected5 == result5)\n",
    "print(\"All test pass\")"
   ]
  },
  {
   "cell_type": "markdown",
   "metadata": {
    "application/vnd.databricks.v1+cell": {
     "cellMetadata": {},
     "inputWidgets": {},
     "nuid": "9179217d-08d9-4e66-9524-f441675c4bf9",
     "showTitle": false,
     "title": ""
    }
   },
   "source": [
    "Run the following cell to delete the tables and files associated with this lesson."
   ]
  },
  {
   "cell_type": "code",
   "execution_count": 0,
   "metadata": {
    "application/vnd.databricks.v1+cell": {
     "cellMetadata": {},
     "inputWidgets": {},
     "nuid": "0fff8b36-683d-4875-a07e-39348b9b0e53",
     "showTitle": false,
     "title": ""
    }
   },
   "outputs": [],
   "source": [
    "DA.cleanup()"
   ]
  },
  {
   "cell_type": "markdown",
   "metadata": {
    "application/vnd.databricks.v1+cell": {
     "cellMetadata": {},
     "inputWidgets": {},
     "nuid": "ebbf6b8c-9e03-4df1-9f5f-905485b539b7",
     "showTitle": false,
     "title": ""
    }
   },
   "source": [
    "-sandbox\n",
    "&copy; 2022 Databricks, Inc. All rights reserved.<br/>\n",
    "Apache, Apache Spark, Spark and the Spark logo are trademarks of the <a href=\"https://www.apache.org/\">Apache Software Foundation</a>.<br/>\n",
    "<br/>\n",
    "<a href=\"https://databricks.com/privacy-policy\">Privacy Policy</a> | <a href=\"https://databricks.com/terms-of-use\">Terms of Use</a> | <a href=\"https://help.databricks.com/\">Support</a>"
   ]
  }
 ],
 "metadata": {
  "application/vnd.databricks.v1+notebook": {
   "dashboards": [],
   "language": "python",
   "notebookMetadata": {
    "pythonIndentUnit": 2
   },
   "notebookName": "DE 0.6L - Revenue by Traffic Lab",
   "widgets": {}
  }
 },
 "nbformat": 4,
 "nbformat_minor": 0
}
